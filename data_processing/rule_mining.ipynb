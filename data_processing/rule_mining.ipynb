{
 "cells": [
  {
   "cell_type": "code",
   "execution_count": 1,
   "metadata": {},
   "outputs": [],
   "source": [
    "import os\n",
    "\n",
    "import pandas as pd\n",
    "from tableone import TableOne\n",
    "from efficient_apriori import apriori"
   ]
  },
  {
   "cell_type": "code",
   "execution_count": 2,
   "metadata": {},
   "outputs": [],
   "source": [
    "DATADIR = '../data/flights_trifecta/preprocR1/'\n",
    "\n",
    "DATAFILES = []\n",
    "\n",
    "for f in os.listdir(os.path.join(DATADIR, os.listdir(DATADIR)[0])):\n",
    "    DATAFILES.append(os.path.join(DATADIR, os.listdir(DATADIR)[0], f))"
   ]
  },
  {
   "cell_type": "code",
   "execution_count": 3,
   "metadata": {},
   "outputs": [
    {
     "name": "stdout",
     "output_type": "stream",
     "text": [
      "1/36\n",
      "2/36\n",
      "3/36\n",
      "4/36\n",
      "5/36\n",
      "6/36\n",
      "7/36\n",
      "8/36\n",
      "9/36\n",
      "10/36\n",
      "11/36\n",
      "12/36\n",
      "13/36\n",
      "14/36\n",
      "15/36\n",
      "16/36\n",
      "17/36\n",
      "18/36\n",
      "19/36\n",
      "20/36\n",
      "21/36\n",
      "22/36\n",
      "23/36\n",
      "24/36\n",
      "25/36\n",
      "26/36\n",
      "27/36\n",
      "28/36\n",
      "29/36\n",
      "30/36\n",
      "31/36\n",
      "32/36\n",
      "33/36\n",
      "34/36\n",
      "35/36\n",
      "36/36\n"
     ]
    }
   ],
   "source": [
    "all_dfs = []\n",
    "count = 0\n",
    "for f in DATAFILES:\n",
    "    df = pd.read_csv(f, index_col = 0, header = 0, dtype='str')\n",
    "    all_dfs.append(df)\n",
    "    count += 1\n",
    "    print(f'{count}/{len(DATAFILES)}')"
   ]
  },
  {
   "cell_type": "code",
   "execution_count": 4,
   "metadata": {},
   "outputs": [],
   "source": [
    "df = pd.concat(all_dfs, axis = 0, ignore_index = True)"
   ]
  },
  {
   "cell_type": "code",
   "execution_count": 5,
   "metadata": {},
   "outputs": [
    {
     "data": {
      "text/html": [
       "<div>\n",
       "<style scoped>\n",
       "    .dataframe tbody tr th:only-of-type {\n",
       "        vertical-align: middle;\n",
       "    }\n",
       "\n",
       "    .dataframe tbody tr th {\n",
       "        vertical-align: top;\n",
       "    }\n",
       "\n",
       "    .dataframe thead th {\n",
       "        text-align: right;\n",
       "    }\n",
       "</style>\n",
       "<table border=\"1\" class=\"dataframe\">\n",
       "  <thead>\n",
       "    <tr style=\"text-align: right;\">\n",
       "      <th></th>\n",
       "      <th>YEAR</th>\n",
       "      <th>MONTH</th>\n",
       "      <th>DAY_OF_WEEK</th>\n",
       "      <th>UNIQUE_CARRIER</th>\n",
       "      <th>ORIGIN</th>\n",
       "      <th>ORIGIN_STATE_ABR</th>\n",
       "      <th>DEST</th>\n",
       "      <th>DEST_STATE_ABR</th>\n",
       "      <th>CRS_DEP_TIME</th>\n",
       "      <th>CRS_ELAPSED_TIME</th>\n",
       "      <th>DISTANCE</th>\n",
       "      <th>LABEL</th>\n",
       "    </tr>\n",
       "  </thead>\n",
       "  <tbody>\n",
       "    <tr>\n",
       "      <th>0</th>\n",
       "      <td>2010</td>\n",
       "      <td>1</td>\n",
       "      <td>6</td>\n",
       "      <td>9E</td>\n",
       "      <td>ATL</td>\n",
       "      <td>GA</td>\n",
       "      <td>AUS</td>\n",
       "      <td>TX</td>\n",
       "      <td>1056</td>\n",
       "      <td>154.0</td>\n",
       "      <td>813.0</td>\n",
       "      <td>1</td>\n",
       "    </tr>\n",
       "    <tr>\n",
       "      <th>1</th>\n",
       "      <td>2010</td>\n",
       "      <td>1</td>\n",
       "      <td>6</td>\n",
       "      <td>9E</td>\n",
       "      <td>ATL</td>\n",
       "      <td>GA</td>\n",
       "      <td>AUS</td>\n",
       "      <td>TX</td>\n",
       "      <td>1056</td>\n",
       "      <td>154.0</td>\n",
       "      <td>813.0</td>\n",
       "      <td>1</td>\n",
       "    </tr>\n",
       "    <tr>\n",
       "      <th>2</th>\n",
       "      <td>2010</td>\n",
       "      <td>1</td>\n",
       "      <td>6</td>\n",
       "      <td>9E</td>\n",
       "      <td>ATL</td>\n",
       "      <td>GA</td>\n",
       "      <td>AUS</td>\n",
       "      <td>TX</td>\n",
       "      <td>1056</td>\n",
       "      <td>154.0</td>\n",
       "      <td>813.0</td>\n",
       "      <td>0</td>\n",
       "    </tr>\n",
       "    <tr>\n",
       "      <th>3</th>\n",
       "      <td>2010</td>\n",
       "      <td>1</td>\n",
       "      <td>6</td>\n",
       "      <td>9E</td>\n",
       "      <td>ATL</td>\n",
       "      <td>GA</td>\n",
       "      <td>AUS</td>\n",
       "      <td>TX</td>\n",
       "      <td>1056</td>\n",
       "      <td>154.0</td>\n",
       "      <td>813.0</td>\n",
       "      <td>0</td>\n",
       "    </tr>\n",
       "    <tr>\n",
       "      <th>4</th>\n",
       "      <td>2010</td>\n",
       "      <td>1</td>\n",
       "      <td>2</td>\n",
       "      <td>9E</td>\n",
       "      <td>ATL</td>\n",
       "      <td>GA</td>\n",
       "      <td>RDU</td>\n",
       "      <td>NC</td>\n",
       "      <td>1755</td>\n",
       "      <td>85.0</td>\n",
       "      <td>356.0</td>\n",
       "      <td>0</td>\n",
       "    </tr>\n",
       "  </tbody>\n",
       "</table>\n",
       "</div>"
      ],
      "text/plain": [
       "   YEAR MONTH DAY_OF_WEEK UNIQUE_CARRIER ORIGIN ORIGIN_STATE_ABR DEST  \\\n",
       "0  2010     1           6             9E    ATL               GA  AUS   \n",
       "1  2010     1           6             9E    ATL               GA  AUS   \n",
       "2  2010     1           6             9E    ATL               GA  AUS   \n",
       "3  2010     1           6             9E    ATL               GA  AUS   \n",
       "4  2010     1           2             9E    ATL               GA  RDU   \n",
       "\n",
       "  DEST_STATE_ABR CRS_DEP_TIME CRS_ELAPSED_TIME DISTANCE LABEL  \n",
       "0             TX         1056            154.0    813.0     1  \n",
       "1             TX         1056            154.0    813.0     1  \n",
       "2             TX         1056            154.0    813.0     0  \n",
       "3             TX         1056            154.0    813.0     0  \n",
       "4             NC         1755             85.0    356.0     0  "
      ]
     },
     "execution_count": 5,
     "metadata": {},
     "output_type": "execute_result"
    }
   ],
   "source": [
    "df.head()"
   ]
  },
  {
   "cell_type": "code",
   "execution_count": 6,
   "metadata": {},
   "outputs": [
    {
     "data": {
      "text/plain": [
       "(18632160, 12)"
      ]
     },
     "execution_count": 6,
     "metadata": {},
     "output_type": "execute_result"
    }
   ],
   "source": [
    "df.shape"
   ]
  },
  {
   "cell_type": "code",
   "execution_count": 7,
   "metadata": {},
   "outputs": [],
   "source": [
    "df.to_csv('./r1AllFlights.csv')"
   ]
  },
  {
   "cell_type": "code",
   "execution_count": 8,
   "metadata": {},
   "outputs": [],
   "source": [
    "df = pd.read_csv('./r1AllFlights.csv', index_col = 0, header = 0, dtype='str')"
   ]
  },
  {
   "cell_type": "code",
   "execution_count": null,
   "metadata": {},
   "outputs": [],
   "source": []
  }
 ],
 "metadata": {
  "kernelspec": {
   "display_name": "Python 3",
   "language": "python",
   "name": "python3"
  },
  "language_info": {
   "codemirror_mode": {
    "name": "ipython",
    "version": 3
   },
   "file_extension": ".py",
   "mimetype": "text/x-python",
   "name": "python",
   "nbconvert_exporter": "python",
   "pygments_lexer": "ipython3",
   "version": "3.7.3"
  }
 },
 "nbformat": 4,
 "nbformat_minor": 2
}
