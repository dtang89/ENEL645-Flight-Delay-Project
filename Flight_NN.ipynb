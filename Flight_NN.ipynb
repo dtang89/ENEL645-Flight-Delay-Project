{
 "cells": [
  {
   "cell_type": "code",
   "execution_count": null,
   "metadata": {},
   "outputs": [],
   "source": [
    "import pandas as pd\n",
    "\n",
    "df = pd.read_csv('C:/Users/david/Documents/ENEL645Project/AirOnTimeCSV/airOT/files/airOT2000.csv')\n"
   ]
  },
  {
   "cell_type": "code",
   "execution_count": 4,
   "metadata": {},
   "outputs": [
    {
     "data": {
      "text/plain": [
       "(5683047, 46)"
      ]
     },
     "execution_count": 4,
     "metadata": {},
     "output_type": "execute_result"
    }
   ],
   "source": [
    "df.shape"
   ]
  },
  {
   "cell_type": "code",
   "execution_count": 5,
   "metadata": {},
   "outputs": [],
   "source": [
    "mask = df.CANCELLED > 0.5\n",
    "column_name = 'LABEL'\n",
    "df.loc[mask, column_name] = 3\n",
    "\n",
    "# create label column\n",
    "# 3-CANCELLED\n",
    "# 2-DIVERTED\n",
    "# 1-ARR_DEL15\n",
    "# 0-ON_TIME (to 15 mins late)\n",
    "# -1-OTHER (shouldn't be any others)\n",
    "\n",
    "# lfdf = cleandf.withColumn(\"LABEL\", when(cleandf.CANCELLED > 0.5, 3)\\\n",
    "#                    .otherwise(when(cleandf.DIVERTED > 0.5, 2)\\\n",
    "#                              .otherwise(when(cleandf.ARR_DEL15 > 0.5, 1)\\\n",
    "#                                        .otherwise(when(cleandf.ARR_DEL15 < 0.5, 0)\\\n",
    "#                                                   .otherwise(-1)))))"
   ]
  },
  {
   "cell_type": "code",
   "execution_count": 6,
   "metadata": {},
   "outputs": [],
   "source": [
    "mask = df.DIVERTED > 0.5\n",
    "column_name = 'LABEL'\n",
    "df.loc[mask, column_name] = 2"
   ]
  },
  {
   "cell_type": "code",
   "execution_count": 7,
   "metadata": {},
   "outputs": [],
   "source": [
    "mask = df.ARR_DEL15 > 0.5\n",
    "column_name = 'LABEL'\n",
    "df.loc[mask, column_name] = 1"
   ]
  },
  {
   "cell_type": "code",
   "execution_count": 8,
   "metadata": {},
   "outputs": [],
   "source": [
    "mask = df.ARR_DEL15 < 0.5\n",
    "column_name = 'LABEL'\n",
    "df.loc[mask, column_name] = 0"
   ]
  },
  {
   "cell_type": "code",
   "execution_count": 23,
   "metadata": {},
   "outputs": [],
   "source": [
    "df2 = df[[\"YEAR\", \"MONTH\", \"DAY_OF_WEEK\", \"UNIQUE_CARRIER\", \"ORIGIN\",\n",
    "               \"DEST\", \"DEST_STATE_ABR\", \"CRS_DEP_TIME\", \"DISTANCE\", \"LABEL\"]]\n",
    "df2 = df2.loc[df2['ORIGIN'] == 'IAH']"
   ]
  },
  {
   "cell_type": "code",
   "execution_count": 55,
   "metadata": {},
   "outputs": [],
   "source": [
    "df_OT = df2.loc[df2['LABEL'] == 0]\n",
    "df_DL = df2.loc[df2['LABEL'] == 1]\n",
    "\n",
    "df_OT = df_OT.head(df_DL.shape[0])\n",
    "\n",
    "df2 = pd.concat([df_OT, df_DL])"
   ]
  },
  {
   "cell_type": "code",
   "execution_count": 40,
   "metadata": {},
   "outputs": [
    {
     "name": "stdout",
     "output_type": "stream",
     "text": [
      "On Time:  26891\n",
      "Delayed:  26891\n",
      "Diverted:  0\n",
      "Cancelled:  0\n"
     ]
    }
   ],
   "source": [
    "cancelled = 0\n",
    "diverted = 0\n",
    "delayed = 0\n",
    "onTime = 0\n",
    "for i in df2[\"LABEL\"]:\n",
    "    if (i == 0):\n",
    "        onTime+=1\n",
    "    elif (i == 1):\n",
    "        delayed+=1\n",
    "    elif (i == 2):\n",
    "        diverted+=1\n",
    "    elif (i == 3):\n",
    "        cancelled+=1\n",
    "print(\"On Time: \", onTime)\n",
    "print(\"Delayed: \", delayed)\n",
    "print(\"Diverted: \", diverted)\n",
    "print(\"Cancelled: \", cancelled)"
   ]
  },
  {
   "cell_type": "code",
   "execution_count": 61,
   "metadata": {},
   "outputs": [],
   "source": [
    "from sklearn.utils import shuffle\n",
    "df2 = shuffle(df2)\n",
    "\n",
    "X = df2.drop(columns=['LABEL', 'YEAR', 'MONTH', 'DAY_OF_WEEK'])\n",
    "y = df2['LABEL']\n"
   ]
  },
  {
   "cell_type": "code",
   "execution_count": 62,
   "metadata": {},
   "outputs": [
    {
     "data": {
      "text/html": [
       "<div>\n",
       "<style scoped>\n",
       "    .dataframe tbody tr th:only-of-type {\n",
       "        vertical-align: middle;\n",
       "    }\n",
       "\n",
       "    .dataframe tbody tr th {\n",
       "        vertical-align: top;\n",
       "    }\n",
       "\n",
       "    .dataframe thead th {\n",
       "        text-align: right;\n",
       "    }\n",
       "</style>\n",
       "<table border=\"1\" class=\"dataframe\">\n",
       "  <thead>\n",
       "    <tr style=\"text-align: right;\">\n",
       "      <th></th>\n",
       "      <th>UNIQUE_CARRIER_CO</th>\n",
       "      <th>UNIQUE_CARRIER_NW</th>\n",
       "      <th>UNIQUE_CARRIER_WN</th>\n",
       "      <th>UNIQUE_CARRIER_US</th>\n",
       "      <th>UNIQUE_CARRIER_UA</th>\n",
       "      <th>UNIQUE_CARRIER_DL</th>\n",
       "      <th>UNIQUE_CARRIER_TW</th>\n",
       "      <th>UNIQUE_CARRIER_AA</th>\n",
       "      <th>UNIQUE_CARRIER_HP</th>\n",
       "      <th>ORIGIN_IAH</th>\n",
       "      <th>...</th>\n",
       "      <th>DEST_STATE_ABR_UT</th>\n",
       "      <th>DEST_STATE_ABR_NM</th>\n",
       "      <th>DEST_STATE_ABR_AL</th>\n",
       "      <th>DEST_STATE_ABR_KY</th>\n",
       "      <th>DEST_STATE_ABR_RI</th>\n",
       "      <th>DEST_STATE_ABR_WI</th>\n",
       "      <th>DEST_STATE_ABR_PR</th>\n",
       "      <th>DEST_STATE_ABR_AR</th>\n",
       "      <th>CRS_DEP_TIME</th>\n",
       "      <th>DISTANCE</th>\n",
       "    </tr>\n",
       "  </thead>\n",
       "  <tbody>\n",
       "    <tr>\n",
       "      <th>399036</th>\n",
       "      <td>1</td>\n",
       "      <td>0</td>\n",
       "      <td>0</td>\n",
       "      <td>0</td>\n",
       "      <td>0</td>\n",
       "      <td>0</td>\n",
       "      <td>0</td>\n",
       "      <td>0</td>\n",
       "      <td>0</td>\n",
       "      <td>1</td>\n",
       "      <td>...</td>\n",
       "      <td>0</td>\n",
       "      <td>0</td>\n",
       "      <td>0</td>\n",
       "      <td>0</td>\n",
       "      <td>0</td>\n",
       "      <td>0</td>\n",
       "      <td>0</td>\n",
       "      <td>0</td>\n",
       "      <td>2038</td>\n",
       "      <td>191.0</td>\n",
       "    </tr>\n",
       "    <tr>\n",
       "      <th>1119522</th>\n",
       "      <td>1</td>\n",
       "      <td>0</td>\n",
       "      <td>0</td>\n",
       "      <td>0</td>\n",
       "      <td>0</td>\n",
       "      <td>0</td>\n",
       "      <td>0</td>\n",
       "      <td>0</td>\n",
       "      <td>0</td>\n",
       "      <td>1</td>\n",
       "      <td>...</td>\n",
       "      <td>0</td>\n",
       "      <td>0</td>\n",
       "      <td>0</td>\n",
       "      <td>0</td>\n",
       "      <td>0</td>\n",
       "      <td>0</td>\n",
       "      <td>0</td>\n",
       "      <td>0</td>\n",
       "      <td>1311</td>\n",
       "      <td>845.0</td>\n",
       "    </tr>\n",
       "    <tr>\n",
       "      <th>1210174</th>\n",
       "      <td>0</td>\n",
       "      <td>1</td>\n",
       "      <td>0</td>\n",
       "      <td>0</td>\n",
       "      <td>0</td>\n",
       "      <td>0</td>\n",
       "      <td>0</td>\n",
       "      <td>0</td>\n",
       "      <td>0</td>\n",
       "      <td>1</td>\n",
       "      <td>...</td>\n",
       "      <td>0</td>\n",
       "      <td>0</td>\n",
       "      <td>0</td>\n",
       "      <td>0</td>\n",
       "      <td>0</td>\n",
       "      <td>0</td>\n",
       "      <td>0</td>\n",
       "      <td>0</td>\n",
       "      <td>1640</td>\n",
       "      <td>1034.0</td>\n",
       "    </tr>\n",
       "    <tr>\n",
       "      <th>5236056</th>\n",
       "      <td>1</td>\n",
       "      <td>0</td>\n",
       "      <td>0</td>\n",
       "      <td>0</td>\n",
       "      <td>0</td>\n",
       "      <td>0</td>\n",
       "      <td>0</td>\n",
       "      <td>0</td>\n",
       "      <td>0</td>\n",
       "      <td>1</td>\n",
       "      <td>...</td>\n",
       "      <td>0</td>\n",
       "      <td>0</td>\n",
       "      <td>0</td>\n",
       "      <td>0</td>\n",
       "      <td>0</td>\n",
       "      <td>0</td>\n",
       "      <td>0</td>\n",
       "      <td>0</td>\n",
       "      <td>1853</td>\n",
       "      <td>1507.0</td>\n",
       "    </tr>\n",
       "    <tr>\n",
       "      <th>2015797</th>\n",
       "      <td>1</td>\n",
       "      <td>0</td>\n",
       "      <td>0</td>\n",
       "      <td>0</td>\n",
       "      <td>0</td>\n",
       "      <td>0</td>\n",
       "      <td>0</td>\n",
       "      <td>0</td>\n",
       "      <td>0</td>\n",
       "      <td>1</td>\n",
       "      <td>...</td>\n",
       "      <td>0</td>\n",
       "      <td>0</td>\n",
       "      <td>0</td>\n",
       "      <td>0</td>\n",
       "      <td>0</td>\n",
       "      <td>0</td>\n",
       "      <td>0</td>\n",
       "      <td>0</td>\n",
       "      <td>2035</td>\n",
       "      <td>667.0</td>\n",
       "    </tr>\n",
       "  </tbody>\n",
       "</table>\n",
       "<p>5 rows × 128 columns</p>\n",
       "</div>"
      ],
      "text/plain": [
       "         UNIQUE_CARRIER_CO  UNIQUE_CARRIER_NW  UNIQUE_CARRIER_WN  \\\n",
       "399036                   1                  0                  0   \n",
       "1119522                  1                  0                  0   \n",
       "1210174                  0                  1                  0   \n",
       "5236056                  1                  0                  0   \n",
       "2015797                  1                  0                  0   \n",
       "\n",
       "         UNIQUE_CARRIER_US  UNIQUE_CARRIER_UA  UNIQUE_CARRIER_DL  \\\n",
       "399036                   0                  0                  0   \n",
       "1119522                  0                  0                  0   \n",
       "1210174                  0                  0                  0   \n",
       "5236056                  0                  0                  0   \n",
       "2015797                  0                  0                  0   \n",
       "\n",
       "         UNIQUE_CARRIER_TW  UNIQUE_CARRIER_AA  UNIQUE_CARRIER_HP  ORIGIN_IAH  \\\n",
       "399036                   0                  0                  0           1   \n",
       "1119522                  0                  0                  0           1   \n",
       "1210174                  0                  0                  0           1   \n",
       "5236056                  0                  0                  0           1   \n",
       "2015797                  0                  0                  0           1   \n",
       "\n",
       "         ...  DEST_STATE_ABR_UT  DEST_STATE_ABR_NM  DEST_STATE_ABR_AL  \\\n",
       "399036   ...                  0                  0                  0   \n",
       "1119522  ...                  0                  0                  0   \n",
       "1210174  ...                  0                  0                  0   \n",
       "5236056  ...                  0                  0                  0   \n",
       "2015797  ...                  0                  0                  0   \n",
       "\n",
       "         DEST_STATE_ABR_KY  DEST_STATE_ABR_RI  DEST_STATE_ABR_WI  \\\n",
       "399036                   0                  0                  0   \n",
       "1119522                  0                  0                  0   \n",
       "1210174                  0                  0                  0   \n",
       "5236056                  0                  0                  0   \n",
       "2015797                  0                  0                  0   \n",
       "\n",
       "         DEST_STATE_ABR_PR  DEST_STATE_ABR_AR  CRS_DEP_TIME  DISTANCE  \n",
       "399036                   0                  0          2038     191.0  \n",
       "1119522                  0                  0          1311     845.0  \n",
       "1210174                  0                  0          1640    1034.0  \n",
       "5236056                  0                  0          1853    1507.0  \n",
       "2015797                  0                  0          2035     667.0  \n",
       "\n",
       "[5 rows x 128 columns]"
      ]
     },
     "execution_count": 62,
     "metadata": {},
     "output_type": "execute_result"
    }
   ],
   "source": [
    "# Uses OneHotEncoder\n",
    "import category_encoders as ce\n",
    "\n",
    "ohe = ce.OneHotEncoder(handle_unknown='ignore', use_cat_names=True)\n",
    "X = ohe.fit_transform(X)\n",
    "X.head()"
   ]
  },
  {
   "cell_type": "code",
   "execution_count": 72,
   "metadata": {},
   "outputs": [
    {
     "name": "stdout",
     "output_type": "stream",
     "text": [
      "Train on 43025 samples, validate on 10757 samples\n",
      "Epoch 1/10\n",
      "43025/43025 [==============================] - 8s 182us/sample - loss: 0.8290 - acc: 0.5294 - val_loss: 0.8309 - val_acc: 0.5141\n",
      "Epoch 2/10\n",
      "43025/43025 [==============================] - 7s 173us/sample - loss: 0.7355 - acc: 0.5572 - val_loss: 0.7189 - val_acc: 0.5432\n",
      "Epoch 3/10\n",
      "43025/43025 [==============================] - 7s 172us/sample - loss: 0.7370 - acc: 0.5597 - val_loss: 0.7072 - val_acc: 0.5763\n",
      "Epoch 4/10\n",
      "43025/43025 [==============================] - 7s 173us/sample - loss: 0.7281 - acc: 0.5673 - val_loss: 0.7119 - val_acc: 0.5836\n",
      "Epoch 5/10\n",
      "43025/43025 [==============================] - 7s 171us/sample - loss: 0.7181 - acc: 0.5748 - val_loss: 0.7093 - val_acc: 0.5871\n",
      "Epoch 6/10\n",
      "43025/43025 [==============================] - 7s 171us/sample - loss: 0.7146 - acc: 0.5729 - val_loss: 0.6736 - val_acc: 0.5869\n",
      "Epoch 7/10\n",
      "43025/43025 [==============================] - 7s 172us/sample - loss: 0.6932 - acc: 0.5749 - val_loss: 0.6902 - val_acc: 0.5629\n",
      "Epoch 8/10\n",
      "43025/43025 [==============================] - 8s 176us/sample - loss: 0.6843 - acc: 0.5782 - val_loss: 0.6938 - val_acc: 0.5653\n",
      "Epoch 9/10\n",
      "43025/43025 [==============================] - 8s 177us/sample - loss: 0.6842 - acc: 0.5773 - val_loss: 0.6619 - val_acc: 0.5974\n",
      "Epoch 10/10\n",
      "43025/43025 [==============================] - 7s 172us/sample - loss: 0.6784 - acc: 0.5822 - val_loss: 0.6854 - val_acc: 0.5679\n"
     ]
    },
    {
     "data": {
      "text/plain": [
       "<tensorflow.python.keras.callbacks.History at 0x12bd11dd940>"
      ]
     },
     "execution_count": 72,
     "metadata": {},
     "output_type": "execute_result"
    }
   ],
   "source": [
    "import tensorflow as tf\n",
    "from tensorflow.keras.models import Sequential\n",
    "from tensorflow.keras.layers import Dense\n",
    "from tensorflow.keras.callbacks import TensorBoard\n",
    "import time\n",
    "\n",
    "NAME = 'IAH-2000-64x2-{}'.format(int(time.time()))\n",
    "tensorboard = TensorBoard(log_dir='logs/{}'.format(NAME))\n",
    "\n",
    "#create model\n",
    "model = Sequential()\n",
    "\n",
    "#get number of columns in training data\n",
    "n_cols = X.shape[1]\n",
    "\n",
    "#add model layers\n",
    "model.add(Dense(16, activation='relu', input_shape=(n_cols,)))\n",
    "model.add(Dense(16, activation='relu'))\n",
    "\n",
    "model.add(Dense(1, activation='sigmoid'))\n",
    "\n",
    "model.compile(optimizer='adam', loss='binary_crossentropy', metrics=['accuracy'])\n",
    "model.fit(X, y, batch_size=32, epochs=10, validation_split=0.2, callbacks=[tensorboard])"
   ]
  },
  {
   "cell_type": "code",
   "execution_count": null,
   "metadata": {},
   "outputs": [],
   "source": []
  }
 ],
 "metadata": {
  "kernelspec": {
   "display_name": "Python 3",
   "language": "python",
   "name": "python3"
  },
  "language_info": {
   "codemirror_mode": {
    "name": "ipython",
    "version": 3
   },
   "file_extension": ".py",
   "mimetype": "text/x-python",
   "name": "python",
   "nbconvert_exporter": "python",
   "pygments_lexer": "ipython3",
   "version": "3.6.8"
  }
 },
 "nbformat": 4,
 "nbformat_minor": 2
}
